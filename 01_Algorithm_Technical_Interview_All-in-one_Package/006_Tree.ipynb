{
 "cells": [
  {
   "cell_type": "code",
   "execution_count": 1,
   "id": "42267436",
   "metadata": {},
   "outputs": [],
   "source": [
    "class Node:\n",
    "    def __init__(self, value):\n",
    "        self.value = value\n",
    "        self.left = None\n",
    "        self.right = None"
   ]
  },
  {
   "cell_type": "code",
   "execution_count": 2,
   "id": "70400c1e",
   "metadata": {},
   "outputs": [],
   "source": [
    "class Node:\n",
    "    def __init__(self, value):\n",
    "        self.value = value\n",
    "        self.left = None\n",
    "        self.right = None\n",
    "\n",
    "        \n",
    "class NodeMgmt:\n",
    "    def __init__(self, head):\n",
    "        self.head = head\n",
    "    \n",
    "    def insert(self, value):\n",
    "        self.current_node = self.head\n",
    "        while True:\n",
    "            if value < self.current_node.value:\n",
    "                if self.current_node.left != None:\n",
    "                    self.current_node = self.current_node.left\n",
    "                else:\n",
    "                    self.current_node.left = Node(value)\n",
    "                    break\n",
    "            else:\n",
    "                if self.current_node.right != None:\n",
    "                    self.current_node = self.current_node.right\n",
    "                else:\n",
    "                    self.current_node.right = Node(value)\n",
    "                    break\n",
    "    \n",
    "    def search(self, value):\n",
    "        self.current_node = self.head\n",
    "        while self.current_node:\n",
    "            if self.current_node.value == value:\n",
    "                return True\n",
    "            elif value < self.current_node.value:\n",
    "                self.current_node = self.current_node.left\n",
    "            else:\n",
    "                self.current_node = self.current_node.right\n",
    "        return False        \n",
    "    \n",
    "    def delete(self, value):\n",
    "        # 삭제할 노드 탐색\n",
    "        searched = False\n",
    "        self.current_node = self.head\n",
    "        self.parent = self.head\n",
    "        while self.current_node:\n",
    "            if self.current_node.value == value:\n",
    "                searched = True\n",
    "                break\n",
    "            elif value < self.current_node.value:\n",
    "                self.parent = self.current_node\n",
    "                self.current_node = self.current_node.left\n",
    "            else:\n",
    "                self.parent = self.current_node\n",
    "                self.current_node = self.current_node.right\n",
    "\n",
    "        if searched == False:\n",
    "            return False    \n",
    "\n",
    "        # case1\n",
    "        if  self.current_node.left == None and self.current_node.right == None:\n",
    "            if value < self.parent.value:\n",
    "                self.parent.left = None\n",
    "            else:\n",
    "                self.parent.right = None\n",
    "        \n",
    "        # case2\n",
    "        elif self.current_node.left != None and self.current_node.right == None:\n",
    "            if value < self.parent.value:\n",
    "                self.parent.left = self.current_node.left\n",
    "            else:\n",
    "                self.parent.right = self.current_node.left\n",
    "        elif self.current_node.left == None and self.current_node.right != None:\n",
    "            if value < self.parent.value:\n",
    "                self.parent.left = self.current_node.right\n",
    "            else:\n",
    "                self.parent.right = self.current_node.right        \n",
    "        \n",
    "        # case 3\n",
    "        elif self.current_node.left != None and self.current_node.right != None:\n",
    "            # case3-1\n",
    "            if value < self.parent.value:\n",
    "                self.change_node = self.current_node.right\n",
    "                self.change_node_parent = self.current_node.right\n",
    "                while self.change_node.left != None:\n",
    "                    self.change_node_parent = self.change_node\n",
    "                    self.change_node = self.change_node.left\n",
    "                if self.change_node.right != None:\n",
    "                    self.change_node_parent.left = self.change_node.right\n",
    "                else:\n",
    "                    self.change_node_parent.left = None\n",
    "                self.parent.left = self.change_node\n",
    "                self.change_node.right = self.current_node.right\n",
    "                self.change_node.left = self.change_node.left\n",
    "            # case 3-2\n",
    "            else:\n",
    "                self.change_node = self.current_node.right\n",
    "                self.change_node_parent = self.current_node.right\n",
    "                while self.change_node.left != None:\n",
    "                    self.change_node_parent = self.change_node\n",
    "                    self.change_node = self.change_node.left\n",
    "                if self.change_node.right != None:\n",
    "                    self.change_node_parent.left = self.change_node.right\n",
    "                else:\n",
    "                    self.change_node_parent.left = None\n",
    "                self.parent.right = self.change_node\n",
    "                self.change_node.right = self.current_node.right\n",
    "                self.change_node.left = self.current_node.left\n",
    "\n",
    "        return True"
   ]
  },
  {
   "cell_type": "code",
   "execution_count": 8,
   "id": "3516f239",
   "metadata": {},
   "outputs": [],
   "source": [
    "head = Node(1)\n",
    "BST = NodeMgmt(head)\n",
    "BST.insert(2)\n",
    "BST.insert(3)\n",
    "BST.insert(0)\n",
    "BST.insert(4)\n",
    "BST.insert(8)"
   ]
  },
  {
   "cell_type": "code",
   "execution_count": 9,
   "id": "72a3c686",
   "metadata": {},
   "outputs": [
    {
     "data": {
      "text/plain": [
       "True"
      ]
     },
     "execution_count": 9,
     "metadata": {},
     "output_type": "execute_result"
    }
   ],
   "source": [
    "BST.search(8)"
   ]
  },
  {
   "cell_type": "code",
   "execution_count": 10,
   "id": "bcb554ac",
   "metadata": {},
   "outputs": [
    {
     "data": {
      "text/plain": [
       "False"
      ]
     },
     "execution_count": 10,
     "metadata": {},
     "output_type": "execute_result"
    }
   ],
   "source": [
    "BST.search(-1)"
   ]
  },
  {
   "cell_type": "code",
   "execution_count": 5,
   "id": "ce9b88d1",
   "metadata": {},
   "outputs": [],
   "source": []
  },
  {
   "cell_type": "code",
   "execution_count": 3,
   "id": "74b158b6",
   "metadata": {},
   "outputs": [],
   "source": [
    "# 0 ~ 999 숫자 중에서 임의로 100개를 추출해서, 이진 탐색 트리에 입력, 검색, 삭제\n",
    "import random\n",
    "\n",
    "# 0 ~ 999 중, 100 개의 숫자 랜덤 선택\n",
    "bst_nums = set()\n",
    "while len(bst_nums) != 100:\n",
    "    bst_nums.add(random.randint(0, 999))\n",
    "# print (bst_nums)\n",
    "\n",
    "# 선택된 100개의 숫자를 이진 탐색 트리에 입력, 임의로 루트노드는 500을 넣기로 함\n",
    "head = Node(500)\n",
    "binary_tree = NodeMgmt(head)\n",
    "for num in bst_nums:\n",
    "    binary_tree.insert(num)\n",
    "    \n",
    "# 입력한 100개의 숫자 검색 (검색 기능 확인)\n",
    "for num in bst_nums:\n",
    "    if binary_tree.search(num) == False:\n",
    "        print ('search failed', num)\n",
    "\n",
    "# 입력한 100개의 숫자 중 10개의 숫자를 랜덤 선택\n",
    "delete_nums = set()\n",
    "bst_nums = list(bst_nums)\n",
    "while len(delete_nums) != 10:\n",
    "    delete_nums.add(bst_nums[random.randint(0, 99)])\n",
    "\n",
    "# 선택한 10개의 숫자를 삭제 (삭제 기능 확인)\n",
    "for del_num in delete_nums:\n",
    "    if binary_tree.delete(del_num) == False:\n",
    "        print('delete failed', del_num)"
   ]
  },
  {
   "cell_type": "code",
   "execution_count": 7,
   "id": "94f0a131",
   "metadata": {},
   "outputs": [
    {
     "data": {
      "text/plain": [
       "<__main__.NodeMgmt at 0x19dcac1b790>"
      ]
     },
     "execution_count": 7,
     "metadata": {},
     "output_type": "execute_result"
    }
   ],
   "source": [
    "binary_tree"
   ]
  },
  {
   "cell_type": "code",
   "execution_count": null,
   "id": "e10ccb92",
   "metadata": {},
   "outputs": [],
   "source": []
  },
  {
   "cell_type": "code",
   "execution_count": null,
   "id": "b2445326",
   "metadata": {},
   "outputs": [],
   "source": []
  },
  {
   "cell_type": "code",
   "execution_count": null,
   "id": "aecc2fc4",
   "metadata": {},
   "outputs": [],
   "source": []
  },
  {
   "cell_type": "code",
   "execution_count": null,
   "id": "60693fe7",
   "metadata": {},
   "outputs": [],
   "source": []
  },
  {
   "cell_type": "code",
   "execution_count": null,
   "id": "89d30a0d",
   "metadata": {},
   "outputs": [],
   "source": []
  },
  {
   "cell_type": "code",
   "execution_count": null,
   "id": "00de6032",
   "metadata": {},
   "outputs": [],
   "source": []
  },
  {
   "cell_type": "code",
   "execution_count": null,
   "id": "d1fbc60e",
   "metadata": {},
   "outputs": [],
   "source": []
  },
  {
   "cell_type": "code",
   "execution_count": null,
   "id": "92884f83",
   "metadata": {},
   "outputs": [],
   "source": []
  },
  {
   "cell_type": "code",
   "execution_count": null,
   "id": "afaee6ed",
   "metadata": {},
   "outputs": [],
   "source": []
  }
 ],
 "metadata": {
  "kernelspec": {
   "display_name": "hackerrank",
   "language": "python",
   "name": "hackerrank"
  },
  "language_info": {
   "codemirror_mode": {
    "name": "ipython",
    "version": 3
   },
   "file_extension": ".py",
   "mimetype": "text/x-python",
   "name": "python",
   "nbconvert_exporter": "python",
   "pygments_lexer": "ipython3",
   "version": "3.9.12"
  }
 },
 "nbformat": 4,
 "nbformat_minor": 5
}
