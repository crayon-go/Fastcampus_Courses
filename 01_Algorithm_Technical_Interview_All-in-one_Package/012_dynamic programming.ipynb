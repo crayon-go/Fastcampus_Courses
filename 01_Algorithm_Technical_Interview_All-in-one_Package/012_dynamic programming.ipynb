{
 "cells": [
  {
   "cell_type": "code",
   "execution_count": null,
   "id": "02b108f4",
   "metadata": {},
   "outputs": [],
   "source": [
    "# Dynamic Programming\n",
    "# Divide and Conquer"
   ]
  },
  {
   "cell_type": "code",
   "execution_count": 9,
   "id": "4c5a853f",
   "metadata": {},
   "outputs": [],
   "source": [
    "def fibo(num):\n",
    "    if num <= 1:\n",
    "        return num\n",
    "    return fibo(num-1) + fibo(num-2)"
   ]
  },
  {
   "cell_type": "code",
   "execution_count": 10,
   "id": "8400afb4",
   "metadata": {},
   "outputs": [
    {
     "data": {
      "text/plain": [
       "3"
      ]
     },
     "execution_count": 10,
     "metadata": {},
     "output_type": "execute_result"
    }
   ],
   "source": [
    "fibo(4)"
   ]
  },
  {
   "cell_type": "code",
   "execution_count": 11,
   "id": "26718853",
   "metadata": {},
   "outputs": [],
   "source": [
    "# Dynamic Programming"
   ]
  },
  {
   "cell_type": "code",
   "execution_count": 17,
   "id": "90141541",
   "metadata": {},
   "outputs": [],
   "source": [
    "def fibo_dp(num):\n",
    "    cache = [0 for index in range(num+1)]\n",
    "    cache[0] = 0\n",
    "    cache[1] = 1\n",
    "    \n",
    "    for index in range(2, num+1):\n",
    "        cache[index] = cache[index - 1] + cache[index - 2]\n",
    "    return cache[num]"
   ]
  },
  {
   "cell_type": "code",
   "execution_count": 20,
   "id": "eae54f0a",
   "metadata": {},
   "outputs": [
    {
     "data": {
      "text/plain": [
       "3"
      ]
     },
     "execution_count": 20,
     "metadata": {},
     "output_type": "execute_result"
    }
   ],
   "source": [
    "fibo_dp(4)"
   ]
  },
  {
   "cell_type": "code",
   "execution_count": 1,
   "id": "bc59cf78",
   "metadata": {},
   "outputs": [],
   "source": [
    "dp = [0] * 1001\n",
    "dp[1] = 1\n",
    "dp[2] = 2\n",
    "for index in range(3, 1001):\n",
    "    dp[index] = dp[index-1] + dp[index-2]"
   ]
  },
  {
   "cell_type": "code",
   "execution_count": 6,
   "id": "67344270",
   "metadata": {},
   "outputs": [
    {
     "data": {
      "text/plain": [
       "2"
      ]
     },
     "execution_count": 6,
     "metadata": {},
     "output_type": "execute_result"
    }
   ],
   "source": [
    "dp[2]"
   ]
  },
  {
   "cell_type": "code",
   "execution_count": 3,
   "id": "85c35efc",
   "metadata": {},
   "outputs": [
    {
     "name": "stdout",
     "output_type": "stream",
     "text": [
      "1\n",
      "3\n",
      "16\n"
     ]
    }
   ],
   "source": [
    "dp = [0] * 101\n",
    "dp[1], dp[2], dp[3] = 1, 1, 1\n",
    "for index in range(1, 98):\n",
    "    dp[index + 3] = dp[index] + dp[index + 1]\n",
    "print(dp[2])\n",
    "print(dp[6])\n",
    "print(dp[12])"
   ]
  }
 ],
 "metadata": {
  "kernelspec": {
   "display_name": "hackerrank",
   "language": "python",
   "name": "hackerrank"
  },
  "language_info": {
   "codemirror_mode": {
    "name": "ipython",
    "version": 3
   },
   "file_extension": ".py",
   "mimetype": "text/x-python",
   "name": "python",
   "nbconvert_exporter": "python",
   "pygments_lexer": "ipython3",
   "version": "3.9.12"
  }
 },
 "nbformat": 4,
 "nbformat_minor": 5
}
