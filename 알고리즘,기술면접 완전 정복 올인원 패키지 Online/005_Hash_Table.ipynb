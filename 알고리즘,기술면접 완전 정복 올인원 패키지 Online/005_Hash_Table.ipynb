{
 "cells": [
  {
   "cell_type": "code",
   "execution_count": 4,
   "id": "1e73d0e8",
   "metadata": {},
   "outputs": [
    {
     "data": {
      "text/plain": [
       "[0, 0, 0, 0, 0, 0, 0, 0, 0, 0]"
      ]
     },
     "execution_count": 4,
     "metadata": {},
     "output_type": "execute_result"
    }
   ],
   "source": [
    "hash_table = list([0 for i in range(10)])\n",
    "hash_table"
   ]
  },
  {
   "cell_type": "code",
   "execution_count": 8,
   "id": "bde9427b",
   "metadata": {},
   "outputs": [],
   "source": [
    "def hash_func(key):\n",
    "    return key % 5"
   ]
  },
  {
   "cell_type": "code",
   "execution_count": 9,
   "id": "027db668",
   "metadata": {},
   "outputs": [
    {
     "name": "stdout",
     "output_type": "stream",
     "text": [
      "65 66 67\n",
      "65 0\n"
     ]
    }
   ],
   "source": [
    "data1 = 'A'\n",
    "data2 = 'B'\n",
    "data3 = 'C'\n",
    "\n",
    "print(ord(data1[0]), ord(data2[0]), ord(data3[0]))\n",
    "print(ord(data1[0]), hash_func(ord(data1[0])))"
   ]
  },
  {
   "cell_type": "code",
   "execution_count": 11,
   "id": "53aa2917",
   "metadata": {},
   "outputs": [],
   "source": [
    "def storage_data(data, value):\n",
    "    key = ord(data[0])\n",
    "    hash_address = hash_func(key)\n",
    "    hash_table[hash_address] = value"
   ]
  },
  {
   "cell_type": "code",
   "execution_count": 13,
   "id": "d7946950",
   "metadata": {},
   "outputs": [],
   "source": [
    "storage_data('Andy', '1234')\n",
    "storage_data('Dave', '1111')\n",
    "storage_data('Trump', '2222')"
   ]
  },
  {
   "cell_type": "code",
   "execution_count": 15,
   "id": "48312d39",
   "metadata": {},
   "outputs": [],
   "source": [
    "def get_data(data):\n",
    "    key = ord(data[0])\n",
    "    hash_address = hash_func(key)\n",
    "    return hash_table[hash_address]"
   ]
  },
  {
   "cell_type": "code",
   "execution_count": 17,
   "id": "3b5e0b9e",
   "metadata": {},
   "outputs": [
    {
     "data": {
      "text/plain": [
       "'1234'"
      ]
     },
     "execution_count": 17,
     "metadata": {},
     "output_type": "execute_result"
    }
   ],
   "source": [
    "get_data('Andy')"
   ]
  },
  {
   "cell_type": "code",
   "execution_count": 33,
   "id": "25db6921",
   "metadata": {},
   "outputs": [],
   "source": [
    "hash_table = list([0 for i in range(8)])\n",
    "\n",
    "def get_key(data):\n",
    "    return hash(data)\n",
    "\n",
    "def hash_function(key):\n",
    "    return key % 8\n",
    "\n",
    "def save_data(data, value):\n",
    "    index_key = get_key(data)\n",
    "    hash_address = hash_function(index_key)\n",
    "    if hash_table[hash_address] != 0:\n",
    "        for index in range(len(hash_table[hash_address])):\n",
    "            if hash_table[hash_address][index][0] == index_key:\n",
    "                hash_table[hash_address][index][1] = value\n",
    "                return\n",
    "        hash_table[hash_address].append([index_key, value])\n",
    "    else:\n",
    "        hash_table[hash_address] = [[index_key, value]]\n",
    "        \n",
    "def read_data(data):\n",
    "    index_key = get_key(data)\n",
    "    hash_address = hash_function(index_key)\n",
    "    if hash_table[hash_address] != 0:\n",
    "        for index in range(len(hash_table[hash_address])):\n",
    "            if hash_table[hash_address][index][0] == index_key:\n",
    "                return hash_table[hash_address][index][1]\n",
    "        return None\n",
    "    else:\n",
    "        return None"
   ]
  },
  {
   "cell_type": "code",
   "execution_count": 59,
   "id": "93da3e45",
   "metadata": {},
   "outputs": [
    {
     "name": "stdout",
     "output_type": "stream",
     "text": [
      "3\n",
      "3\n",
      "0\n",
      "0\n"
     ]
    }
   ],
   "source": [
    "print(hash('Dd') % 8)\n",
    "print(hash('Data') % 8)\n",
    "print(hash('Andy') % 8)\n",
    "print(hash('AC') % 8)\n"
   ]
  },
  {
   "cell_type": "code",
   "execution_count": 39,
   "id": "265a354f",
   "metadata": {},
   "outputs": [
    {
     "data": {
      "text/plain": [
       "'1234'"
      ]
     },
     "execution_count": 39,
     "metadata": {},
     "output_type": "execute_result"
    }
   ],
   "source": [
    "save_data('Dd', '1234')\n",
    "save_data('Data', '1111')\n",
    "read_data('Dd')"
   ]
  },
  {
   "cell_type": "code",
   "execution_count": 60,
   "id": "4daf335f",
   "metadata": {},
   "outputs": [],
   "source": [
    "save_data('Andy', '1111')\n",
    "save_data('AC', '1111')"
   ]
  },
  {
   "cell_type": "code",
   "execution_count": 61,
   "id": "29a8738d",
   "metadata": {},
   "outputs": [
    {
     "data": {
      "text/plain": [
       "[[[-4445096467484613888, '1111'], [5025592130730219848, '1111']],\n",
       " 0,\n",
       " 0,\n",
       " [[4048976603113239339, '1234'], [2997808755206976587, '1111']],\n",
       " 0,\n",
       " 0,\n",
       " 0,\n",
       " 0]"
      ]
     },
     "execution_count": 61,
     "metadata": {},
     "output_type": "execute_result"
    }
   ],
   "source": [
    "hash_table"
   ]
  },
  {
   "cell_type": "code",
   "execution_count": 27,
   "id": "13cc4d3e",
   "metadata": {},
   "outputs": [],
   "source": [
    "a = []\n",
    "a.append(1)"
   ]
  },
  {
   "cell_type": "code",
   "execution_count": 28,
   "id": "c8550cac",
   "metadata": {},
   "outputs": [
    {
     "data": {
      "text/plain": [
       "[1]"
      ]
     },
     "execution_count": 28,
     "metadata": {},
     "output_type": "execute_result"
    }
   ],
   "source": [
    "a"
   ]
  },
  {
   "cell_type": "code",
   "execution_count": 29,
   "id": "bb26a3a5",
   "metadata": {},
   "outputs": [],
   "source": [
    "a.append([2,3])"
   ]
  },
  {
   "cell_type": "code",
   "execution_count": 30,
   "id": "0e8fca33",
   "metadata": {},
   "outputs": [
    {
     "data": {
      "text/plain": [
       "[1, [2, 3]]"
      ]
     },
     "execution_count": 30,
     "metadata": {},
     "output_type": "execute_result"
    }
   ],
   "source": [
    "a"
   ]
  },
  {
   "cell_type": "code",
   "execution_count": 14,
   "id": "80933bf2",
   "metadata": {},
   "outputs": [],
   "source": [
    "hash_table = list([0 for i in range(8)])\n",
    "\n",
    "def get_key(data):\n",
    "    return hash(data)\n",
    "\n",
    "def hash_function(key):\n",
    "    return key % 8\n",
    "\n",
    "def save_data(data, value):\n",
    "    index_key = get_key(data)\n",
    "    hash_address = hash_function(index_key)\n",
    "    if hash_table[hash_address] != 0:\n",
    "        for index in range(hash_address, len(hash_table)):\n",
    "            if hash_table[index] == 0:\n",
    "                hash_table[index] = [index_key, value]\n",
    "                return\n",
    "            elif hash_table[index][0] == index_key:\n",
    "                hash_table[index][1] = value\n",
    "                return\n",
    "    else:\n",
    "        hash_table[hash_address] = [index_key, value]\n",
    "\n",
    "def read_data(data):\n",
    "    index_key = get_key(data)\n",
    "    hash_address = hash_function(index_key)\n",
    "    if hash_table[hash_address] != 0:\n",
    "        for index in range(hash_address, len(hash_table)):\n",
    "            if hash_table[index] == 0:\n",
    "                return None\n",
    "            elif hash_table[index][0] == index_key:\n",
    "                return hash_table[index][1]\n",
    "    else:\n",
    "        return None"
   ]
  },
  {
   "cell_type": "code",
   "execution_count": 15,
   "id": "e1af7bb4",
   "metadata": {},
   "outputs": [
    {
     "name": "stdout",
     "output_type": "stream",
     "text": [
      "6\n",
      "6\n",
      "6\n"
     ]
    }
   ],
   "source": [
    "print(hash('dk') % 8)\n",
    "print(hash('df') % 8)\n",
    "print(hash('dk') % 8)\n"
   ]
  },
  {
   "cell_type": "code",
   "execution_count": 16,
   "id": "e38adeda",
   "metadata": {},
   "outputs": [
    {
     "data": {
      "text/plain": [
       "'1234'"
      ]
     },
     "execution_count": 16,
     "metadata": {},
     "output_type": "execute_result"
    }
   ],
   "source": [
    "save_data('dk', '1234')\n",
    "save_data('df', '1111')\n",
    "read_data('dk')"
   ]
  },
  {
   "cell_type": "code",
   "execution_count": 18,
   "id": "903603d3",
   "metadata": {},
   "outputs": [
    {
     "name": "stdout",
     "output_type": "stream",
     "text": [
      "a94a8fe5ccb19ba61c4c0873d391e987982fbbd3\n"
     ]
    }
   ],
   "source": [
    "# SHA-1\n",
    "\n",
    "import hashlib\n",
    "\n",
    "data = 'test'.encode()\n",
    "hash_object = hashlib.sha1()\n",
    "hash_object.update(data)\n",
    "hex_dig = hash_object.hexdigest()\n",
    "print(hex_dig)"
   ]
  },
  {
   "cell_type": "code",
   "execution_count": 19,
   "id": "b1cc12e6",
   "metadata": {},
   "outputs": [
    {
     "name": "stdout",
     "output_type": "stream",
     "text": [
      "9f86d081884c7d659a2feaa0c55ad015a3bf4f1b2b0b822cd15d6c15b0f00a08\n"
     ]
    }
   ],
   "source": [
    "# SHA-256\n",
    "\n",
    "import hashlib\n",
    "\n",
    "data = 'test'.encode()\n",
    "hash_object = hashlib.sha256()\n",
    "hash_object.update(data)\n",
    "hex_dig = hash_object.hexdigest()\n",
    "print(hex_dig)"
   ]
  },
  {
   "cell_type": "code",
   "execution_count": 23,
   "id": "178e71da",
   "metadata": {},
   "outputs": [],
   "source": [
    "import hashlib\n",
    "\n",
    "hash_table = list([0 for i in range(8)])\n",
    "\n",
    "def get_key(data):\n",
    "    hash_object = hashlib.sha256()\n",
    "    hash_object.update(data.encode())\n",
    "    hex_dig = hash_object.hexdigest()\n",
    "    return int(hex_dig, 16)\n",
    "\n",
    "def hash_function(key):\n",
    "    return key % 8\n",
    "\n",
    "def save_data(data, value):\n",
    "    index_key = get_key(data)\n",
    "    hash_address = hash_function(index_key)\n",
    "    if hash_table[hash_address] != 0:\n",
    "        for index in range(hash_address, len(hash_table)):\n",
    "            if hash_table[index] == 0:\n",
    "                hash_table[index] = [index_key, value]\n",
    "                return\n",
    "            elif hash_table[index][0] == index_key:\n",
    "                hash_table[index][1] = value\n",
    "                return\n",
    "    else:\n",
    "        hash_table[hash_address] = [index_key, value]\n",
    "\n",
    "def read_data(data):\n",
    "    index_key = get_key(data)\n",
    "    hash_address = hash_function(index_key)\n",
    "    if hash_table[hash_address] != 0:\n",
    "        for index in range(hash_address, len(hash_table)):\n",
    "            if hash_table[index] == 0:\n",
    "                return None\n",
    "            elif hash_table[index][0] == index_key:\n",
    "                return hash_table[index][1]\n",
    "    else:\n",
    "        return None"
   ]
  },
  {
   "cell_type": "code",
   "execution_count": 24,
   "id": "a5e5fb64",
   "metadata": {},
   "outputs": [
    {
     "name": "stdout",
     "output_type": "stream",
     "text": [
      "2\n",
      "2\n"
     ]
    }
   ],
   "source": [
    "print(get_key('da') % 8)\n",
    "print(get_key('dh') % 8)\n"
   ]
  },
  {
   "cell_type": "code",
   "execution_count": 25,
   "id": "daa13692",
   "metadata": {},
   "outputs": [
    {
     "data": {
      "text/plain": [
       "'1111'"
      ]
     },
     "execution_count": 25,
     "metadata": {},
     "output_type": "execute_result"
    }
   ],
   "source": [
    "save_data('da', '1234')\n",
    "save_data('dh', '1111')\n",
    "read_data('dh')"
   ]
  },
  {
   "cell_type": "code",
   "execution_count": 20,
   "id": "6cefe48e",
   "metadata": {},
   "outputs": [
    {
     "data": {
      "text/plain": [
       "'9f86d081884c7d659a2feaa0c55ad015a3bf4f1b2b0b822cd15d6c15b0f00a08'"
      ]
     },
     "execution_count": 20,
     "metadata": {},
     "output_type": "execute_result"
    }
   ],
   "source": [
    "hex_dig"
   ]
  },
  {
   "cell_type": "code",
   "execution_count": 21,
   "id": "142b15f7",
   "metadata": {},
   "outputs": [
    {
     "data": {
      "text/plain": [
       "str"
      ]
     },
     "execution_count": 21,
     "metadata": {},
     "output_type": "execute_result"
    }
   ],
   "source": [
    "type(hex_dig)"
   ]
  },
  {
   "cell_type": "code",
   "execution_count": 22,
   "id": "ae0f3a4f",
   "metadata": {},
   "outputs": [
    {
     "data": {
      "text/plain": [
       "72155939486846849509759369733266486982821795810448245423168957390607644363272"
      ]
     },
     "execution_count": 22,
     "metadata": {},
     "output_type": "execute_result"
    }
   ],
   "source": [
    "int(hex_dig, 16)"
   ]
  },
  {
   "cell_type": "code",
   "execution_count": null,
   "id": "12eb9a5a",
   "metadata": {},
   "outputs": [],
   "source": []
  }
 ],
 "metadata": {
  "kernelspec": {
   "display_name": "hackerrank",
   "language": "python",
   "name": "hackerrank"
  },
  "language_info": {
   "codemirror_mode": {
    "name": "ipython",
    "version": 3
   },
   "file_extension": ".py",
   "mimetype": "text/x-python",
   "name": "python",
   "nbconvert_exporter": "python",
   "pygments_lexer": "ipython3",
   "version": "3.9.12"
  }
 },
 "nbformat": 4,
 "nbformat_minor": 5
}
